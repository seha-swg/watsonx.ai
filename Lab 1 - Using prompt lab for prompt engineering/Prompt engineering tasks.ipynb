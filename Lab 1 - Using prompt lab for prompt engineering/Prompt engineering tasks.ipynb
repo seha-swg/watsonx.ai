{
 "cells": [
  {
   "cell_type": "markdown",
   "metadata": {},
   "source": [
    "# Prompt Engineering Exercise (Bahasa Indonesia)\n",
    "***\n",
    "\n",
    "Gunakan Prompt Lab atau prompt Builder dari watsonx.ai untuk mengerjakan latihan berikut ini\n",
    "\n",
    "__Latihan__\n",
    "\n",
    "| __Exercise__ | __Goal__ |\n",
    "| --- | --- |\n",
    "| 1. Generate | Buatlah 3 kalimat mengenai Candi Prambanan|\n",
    "| 2. Rewrite | Mengubah markdown menjadi HTML |\n",
    "| 3. Summarize | Merangkum cerita pendek |\n",
    "| 4. Summary points | Buat daftar topik dari _meeting transcript_ |\n",
    "| 5. Study questions | Mengantisipasi pertanyaan yang mungkin ditanyakan _customer_ |\n",
    "| 6. Text extraction | Ekstrak kata kerja yang ditemukan dalam kalimat |\n",
    "| 7. Compare | Identifikasi kesamaan yang ditemukan dalam sejumlah paragraf |\n",
    "| 8. Text search | Temukan halaman yang mengandung kata yang dicari |\n",
    "| 9. Classify | Deteksi keinginan atau tujuan dari pengguna chatbot |\n",
    "| 10. Anomaly detection | Temukan entri yang aneh |\n",
    "| 11. Math question | Ada berapa menit dalam satu hari? |\n",
    "| 12. Writing with persona | Menulis ulang kalimat dalam gaya yang berbeda |\n"
   ]
  },
  {
   "cell_type": "markdown",
   "metadata": {},
   "source": [
    "### 1. Generate\n",
    "***\n",
    "\n",
    "__`Goal: Buatlah 3 kalimat mengenai Candi Prambanan`__\n",
    "\n",
    "\n",
    "contoh:\n",
    "\n",
    "\n",
    "3 kalimat mengenai Monas:\n",
    "- Monas adalah monumen peringatan kemerdekaan Indonesia yang terletak di Jakarta.\n",
    "- Monas memiliki tinggi 132 meter dan dimahkotai lidah api yang dilapisi emas.\n",
    "- Monas merupakan salah satu landmark paling terkenal di Indonesia.\n",
    "\n",
    "3 kalimat mengenai Jam Gadang:\n",
    "- Jam Gadang adalah menara jam bersejarah yang terletak di Bukittinggi, Sumatra Barat.\n",
    "- Jam Gadang dibangun pada tahun 1926 oleh pemerintah Hindia Belanda.\n",
    "- Jam Gadang merupakan simbol kota Bukittinggi dan budaya Minangkabau.\n",
    "\n",
    "\n",
    "_hint: copy paste contoh, dan berikan instruksi untuk membuat 3 kalimat mengenai Candi Prambanan, hal ini dimaksudkan agar model mendapat konteks lebih mengenai instruksi yang diberikan_\n",
    "\n",
    "\n",
    "\n"
   ]
  },
  {
   "cell_type": "code",
   "execution_count": null,
   "metadata": {},
   "outputs": [],
   "source": [
    "Tulis 3 kalimat mengenai topik yang diberikan. Kalimat harus diawali dengan angka. kalimat yang dihasilkan harus berbeda dari kalimat sebelumnya.\n",
    "Output harus terdiri dari 3 kalimat. Output harus memiliki struktur seperti contoh 1 dan 2.\n",
    "\n",
    "3 kalimat mengenai Monas:\n",
    "1. Monas adalah monumen peringatan kemerdekaan Indonesia yang terletak di Jakarta.\n",
    "2. Monas memiliki tinggi 132 meter dan dimahkotai lidah api yang dilapisi emas.\n",
    "3. Monas merupakan salah satu landmark paling terkenal di Indonesia.\n",
    "\n",
    "3 kalimat mengenai Jam Gadang:\n",
    "1. Jam Gadang adalah menara jam bersejarah yang terletak di Bukittinggi, Sumatra Barat.\n",
    "2. Jam Gadang dibangun pada tahun 1926 oleh pemerintah Hindia Belanda.\n",
    "3. Jam Gadang merupakan simbol kota Bukittinggi dan budaya Minangkabau.\n",
    "\n",
    "3 kalimat mengenai Candi Prambanan:\n",
    "\n"
   ]
  },
  {
   "cell_type": "markdown",
   "metadata": {},
   "source": [
    "Gunakan berbagai model yang tersedia untuk mendapatkan hasil yang berbeda. Atur maximum token menjadi __200__.\n",
    "\n",
    "`llama-3-70b-instruct`\n",
    "\n",
    "3 kalimat tentang Candi Prambanan:\n",
    "1. Candi Prambanan adalah kompleks candi Hindu yang terletak di Yogyakarta.\n",
    "2. Candi Prambanan dibangun pada abad ke-9 dan merupakan salah satu candi Hindu terbesar di dunia.\n",
    "3. Candi Prambanan memiliki 240 candi dan 18 tempat ibadah lainnya.\n",
    "\n",
    "\n",
    "`mixtral-8x7b-instruct-v01`\n",
    "\n",
    "3 kalimat tentang Candi Prambanan:\n",
    "1. Candi Prambanan adalah candi paling terkenal di Indonesia.\n",
    "2. Candi Prambanan merupakan candi pertama yang dibangun di Indonesia.\n",
    "3. Candi Prambanan terletak di Klaten, Jawa Barat.\n"
   ]
  },
  {
   "cell_type": "markdown",
   "metadata": {},
   "source": [
    "### 2. Rewrite\n",
    "***\n",
    "\n",
    "__`Goal: Mengubah markdown menjadi HTML`__\n",
    "\n",
    "\n"
   ]
  },
  {
   "cell_type": "code",
   "execution_count": null,
   "metadata": {},
   "outputs": [],
   "source": [
    "# Contoh 1\n",
    "Markdown:\n",
    "## Selamat datang di website saya!!! \n",
    "Saya sangat senang bisa berbagi keseharian dan kegiatan saya dengan anda. Disini saya akan membahas berbagai topic seperti teknologi, travel, dan personal growth. Ikuti terus jika ingin terus mendapat update terbaru!\n",
    "\n",
    "HTML:\n",
    "<h2>Selamat datang di website saya!!!</h2> <p>Saya sangat senang bisa berbagi keseharian dan kegiatan saya dengan anda. Disini saya akan membahas berbagai topic seperti teknologi, travel, dan personal growth. Ikuti terus jika ingin terus mendapat update terbaru!</p>"
   ]
  },
  {
   "cell_type": "code",
   "execution_count": null,
   "metadata": {},
   "outputs": [],
   "source": [
    "# Contoh 2\n",
    "Markdown:\n",
    "# Ini adalah judul tingkat 1\n",
    "## Ini adalah judul tingkat 2\n",
    "### Ini adalah judul tingkat 3\n",
    "\n",
    "Ini adalah paragraf teks.\n",
    "\n",
    "* Ini adalah poin pertama\n",
    "* Ini adalah poin kedua\n",
    "\n",
    "Ini adalah tautan: [Google](https://www.google.com/)\n",
    "\n",
    "HTML:\n",
    "<h1>Ini adalah judul tingkat 1</h1>\n",
    "<h2>Ini adalah judul tingkat 2</h2>\n",
    "<h3>Ini adalah judul tingkat 3</h3>\n",
    "\n",
    "<p>Ini adalah paragraf teks.</p>\n",
    "\n",
    "<ul>\n",
    "<li>Ini adalah poin pertama</li>\n",
    "<li>Ini adalah poin kedua</li>\n",
    "</ul>\n",
    "\n",
    "<a href=\"https://www.google.com/\">Google</a>"
   ]
  },
  {
   "cell_type": "markdown",
   "metadata": {},
   "source": [
    "__Buat versi HTML dari teks markdown yang telah disediakan.\n",
    "Ubah markdown menjadi HTML.__\n",
    "\n",
    "`cobalah dengan beberapa jenis model seperti: flan-ul2-20b, llama-3-70b-instruct, starcoder-15.5b`"
   ]
  },
  {
   "cell_type": "code",
   "execution_count": null,
   "metadata": {},
   "outputs": [],
   "source": [
    "Markdown:\n",
    "## Background\n",
    "[IBM Watson Natural Language Processing library](https://dataplatform.cloud.ibm.com/docs/content/wsj/analyze-data/watson-nlp.html) merupakan python library yang menyediakan kemampuan dasar dari Natural Language Processing (NLP) seperti syntax analysis, keyword extraction dengan pre-trained model yang out-of-the-box.\n",
    "Library Watson NLP juga memudahkan penyesuaian istilah-istilah khusus yang domain specific.\n",
    "\n",
    "HTML:??\n"
   ]
  },
  {
   "cell_type": "code",
   "execution_count": null,
   "metadata": {},
   "outputs": [],
   "source": [
    "Markdown:\n",
    "[MURAL](https://mural.co) adalah perangkat lunak online yang serupa dengan papan tulis virtual: anda bisa menggambar bentuk, menambahkan sticky notes, menuliskan catatan, dan memindahkannya. Mural merupakan alat yang luar biasa untuk menggambarkan ide secara visual, merancang solusi, dan berkolaborasi dengan rekan satu tim secara realtime atau asynchronous.\n",
    "\n",
    "HTML: ??\n"
   ]
  },
  {
   "cell_type": "code",
   "execution_count": null,
   "metadata": {},
   "outputs": [],
   "source": [
    "Markdown:\n",
    "# Judul Artikel\n",
    "Menggunakan LLMs merupakan hal yang cukup mudah: Berikan perintah terhadap model menggunakan teks (contoh: \"Saya mengajak hewan peliharaan saya\") dan modelnya menghasilkan teks yang melanjutkan kata-kata tersebut (contoh: \"berjalan-jalan di taman\")\n",
    "\n",
    "HTML: ??"
   ]
  },
  {
   "cell_type": "code",
   "execution_count": null,
   "metadata": {},
   "outputs": [],
   "source": [
    "Markdown: \n",
    "### Hall of shame: Ketika LLMs melakukan kesalahan, Bahkan pembuatnya tidak bisa menjelaskan jawaban yang dihasilkan secara menyeluruh: [Pembuat ChatGPT tidak mengetahui mengapa model enggan membicarakan Trump](https://www.semafor.com/\n",
    "article/02/03/2023/how-chatgpt-inadvertently-learned-to-avoid-talking-about-trump)\n",
    "\n",
    "HTML: ??"
   ]
  },
  {
   "cell_type": "markdown",
   "metadata": {},
   "source": [
    "### 3. Summarize\n",
    "***\n",
    "\n",
    "__`Goal: Merangkum cerita pendek`__\n",
    "\n"
   ]
  },
  {
   "cell_type": "markdown",
   "metadata": {},
   "source": [
    "`Cerita Pendek 1`\n",
    "\n",
    "Di sebuah rumah sakit, ada seorang dokter bernama dr. Andi. dr. Andi adalah seorang dokter yang berdedikasi tinggi. Ia ingin memberikan pelayanan kesehatan yang terbaik bagi pasien-pasiennya. Namun, dr. Andi menghadapi tantangan karena banyaknya data medis yang harus dianalisis. Suatu hari, dr. Andi mendapatkan bantuan dari sebuah perusahaan teknologi. Perusahaan tersebut memberikan dr. Andi alat bantu berupa sistem kecerdasan buatan (AI) yang dapat membantunya untuk menganalisis data medis. dr. Andi pun sangat senang. Ia dapat mendiagnosis penyakit pasiennya dengan lebih cepat dan akurat.\n",
    "\n",
    "Rangkuman: Data medis dan AI membantu dr. Andi mendiagnosis penyakit pasiennya dengan lebih cepat dan akurat.\n"
   ]
  },
  {
   "cell_type": "markdown",
   "metadata": {},
   "source": [
    "`Cerita Pendek 2`\n",
    "\n",
    "Di sebuah desa, ada seorang petani bernama Pak Budi. Pak Budi adalah seorang petani yang ulet dan gigih. Ia ingin meningkatkan produktivitas pertaniannya. Suatu hari, Pak Budi mendapatkan bantuan dari sebuah perusahaan teknologi. Perusahaan tersebut memberikan Pak Budi alat bantu berupa sistem AI yang dapat membantunya untuk mengelola pertaniannya. Pak Budi pun sangat senang. Ia dapat meningkatkan produktivitas pertaniannya dengan lebih mudah dan efisien.\n",
    "\n",
    "Rangkuman: AI membantu Pak Budi meningkatkan produktivitas pertaniannya dengan lebih mudah dan efisien."
   ]
  },
  {
   "cell_type": "markdown",
   "metadata": {},
   "source": [
    "__Rangkumlah cerita pendek yang diberikan dengan menggunakan sebuah kalimat yang terdiri dari 2-5 kata, lakukan seperti contoh diatas.__\n",
    "\n",
    "`cobalah dengan beberapa jenis model seperti: granite-13b-instruct-v1, flan-ul2-20b, llama-3-70b-instruct`"
   ]
  },
  {
   "cell_type": "code",
   "execution_count": null,
   "metadata": {},
   "outputs": [],
   "source": [
    "#Cerita Pendek 3\n",
    "\n",
    "Di sebuah kota, ada seorang pemerintah daerah bernama Pak Dimas. Pak Dimas adalah seorang pemerintah daerah yang peduli terhadap masyarakatnya. \n",
    "Ia ingin meningkatkan pelayanan publik di kotanya. Suatu hari, Pak Dimas mendapatkan bantuan dari sebuah perusahaan teknologi. \n",
    "Perusahaan tersebut memberikan Pak Dimas alat bantu berupa sistem data yang dapat membantunya untuk mengelola pelayanan publik. \n",
    "Pak Dimas pun sangat senang. Ia dapat meningkatkan pelayanan publik di kotanya dengan lebih efektif dan efisien.\n",
    "\n",
    "\n",
    "Summary: ???\n"
   ]
  },
  {
   "cell_type": "code",
   "execution_count": null,
   "metadata": {},
   "outputs": [],
   "source": [
    "# Short Stories 4\n",
    "\n",
    "Di sebuah perusahaan, ada seorang pebisnis bernama Pak Budi. Pak Budi adalah seorang pebisnis yang cerdas dan inovatif. \n",
    "Ia ingin meningkatkan penjualan perusahaannya. Suatu hari, Pak Budi mendapatkan bantuan dari sebuah perusahaan teknologi. \n",
    "Perusahaan tersebut memberikan Pak Budi alat bantu berupa sistem data yang dapat membantunya untuk menganalisis data penjualan. \n",
    "Pak Budi pun sangat terbantu karenanya. Ia dapat meningkatkan penjualan perusahaannya dengan lebih tepat sasaran.\n",
    "\n",
    "Summary: ???"
   ]
  },
  {
   "cell_type": "markdown",
   "metadata": {},
   "source": [
    "### 4. Summary points\n",
    "***\n",
    "\n",
    "__`Goal: Buat daftar topik dari meeting transcript`__\n",
    "\n",
    "\n",
    "\n",
    "\n"
   ]
  },
  {
   "cell_type": "code",
   "execution_count": null,
   "metadata": {
    "vscode": {
     "languageId": "powershell"
    }
   },
   "outputs": [],
   "source": [
    "Contoh 1:\n",
    "\n",
    "Transkrip:\n",
    "00:00 [Mark] Halo, selamat pagi semuanya, terima kasih karena telah meluangkan waktu untuk mengikuti meeting hari ini.\n",
    "00:05 [Mark] Hari ini mari kita berdiskusi mengenai peluncuran product yang akan datang.\n",
    "00:10 [Mark] Tanggal peluncuran sudah di tetapkan menjadi bulan depan.\n",
    "00:15 [Sarah] Kabar baik dong! tapi kita harus segera melakukan perancanaan marketing campaign.\n",
    "00:20 [Sarah] Menurut saya, sebaiknya kita menggunakan social media dan influencers untuk memviralkan product ini.\n",
    "00:30 [John] Saya setuju dengan sarah, kita juga harus menyiapakan video product yang menarik penonton.\n",
    "00:35 [Mark] Ide yang sangat bagus, Sarah, John, ayo kita buat list apa saja yang harus dikerjakan dan juga timeline eksekusi dari task tersebut.\n",
    "\n",
    "Summary:\n",
    "- Peluncuran produk baru\n",
    "- Tanggal peluncuran sudah diputuskan bulan depan\n",
    "- Marketing campaign menggunakan sosial media\n",
    "- Membuat video produk yang menarik\n",
    "- Membuat timeline dari hal yang harus dieksekusi"
   ]
  },
  {
   "cell_type": "markdown",
   "metadata": {},
   "source": [
    "__Rangkum transkrip percakapan dengan menggunakan poin-poin. Setiap poin haruslah merupakan baris baru. Setiap poin terdiri dari 2-5 kata-kata.__\n",
    "\n",
    "`cobalah menggunakan beberapa model seperti: granite-13b-instruct-v2, flan-ul2-20b`"
   ]
  },
  {
   "cell_type": "code",
   "execution_count": null,
   "metadata": {},
   "outputs": [],
   "source": [
    "00:00   [sam]   Hari ini saya ingin membagikan update terbaru mengenai project X.\n",
    "00:15   [sam]   Project X akan selesai pada akhir minggu ini!\n",
    "00:30   [erin]   Wah, kabar bagus nih!\n",
    "00:35   [erin]   Menurut customer Y, mereka setuju untuk membeli produk kita.\n",
    "00:45   [alex]  Customer Z juga bilang mereka ingin beli produk kita juga.\n",
    "01:05   [sam]   Bagus, banyak kabar baik ya hari ini!"
   ]
  },
  {
   "cell_type": "code",
   "execution_count": null,
   "metadata": {},
   "outputs": [],
   "source": [
    "00:00   [ali]   Tujuan meeting kita hari ini adalah untuk memilih desain dari solusi kita.\n",
    "00:12   [alex]  Menurut saya, pilihan pertama adalah pilihan yang tepat.\n",
    "00:25   [ali]   Saya juga setuju.\n",
    "00:40   [erin]  Tapi, kelebihan dari pilihan kedua adalah waktu yang dibutuhkan lebih cepat.\n",
    "01:03   [alex]  Sebenernya itu juga harus dipertimbangkan sih.\n",
    "01:30   [ali]   Jadi, gimana?\n",
    "01:55   [alex]  Saya setuju juga kalo pilihan kedua.\n",
    "02:20   [erin]  Saya juga.\n",
    "02:45   [ali]   Oke, kita pakai pilihan kedua saja."
   ]
  },
  {
   "cell_type": "code",
   "execution_count": null,
   "metadata": {},
   "outputs": [],
   "source": [
    "00:00   [alex]  Halo semua, ayo kita bikin rencana untuk pesta akhir tahun!\n",
    "00:10   [ali]   Eh gimana kalo kita makan-makan di restaurant pas makan siang?\n",
    "00:21   [sam]   Ide bagus sih.\n",
    "00:47   [sam]   Kalo abis itu nonton gimana?\n",
    "01:04   [alex]  kalau Golf?\n",
    "01:15   [sam]   Gimana kalau, setiap orang bebas memilih nonton atau main golf sesuai keinginana mereka.\n",
    "01:29   [alex]  Ide bagus.  Let's have a party!"
   ]
  },
  {
   "cell_type": "markdown",
   "metadata": {},
   "source": [
    "### 5. Study questions\n",
    "***\n",
    "\n",
    "__`Goal: Mengantisipasi pertanyaan yang mungkin ditanyakan customer`__\n",
    "\n"
   ]
  },
  {
   "cell_type": "code",
   "execution_count": null,
   "metadata": {},
   "outputs": [],
   "source": [
    "Contoh 1:\n",
    "\n",
    "Topic: overview AutoAI\n",
    "\n",
    "Informasi:\n",
    "\"AutoAI merupakan alat dengan graphical interface pada Watson Studio yang dapat digunakan untuk menganalisa data dan menemukan data transformation, algoritma, dan parameter yang paling sesuai untuk predictive model anda,\n",
    "AutoAI menampilkan hasil rekomendasi dengan menampilkan beberapa pipeline yang paling sesuai sebagai pilihan untuk anda.\"\n",
    "\n",
    "Pertanyaan dari Informasi diatas:\n",
    "1. Bagaimana cara AutoAI menganalisa data saya?\n",
    "2. Bagaimana cara AutoAI menentukan algoritman terbaik?\n",
    "3. Bagaimana cara AutoAI menentukan parameter yang terbaik?\n",
    "4. Bagaimana cara AutoAI mengurutkan hasil rekomendasi terbaik?\n"
   ]
  },
  {
   "cell_type": "code",
   "execution_count": null,
   "metadata": {},
   "outputs": [],
   "source": [
    "Topic: Jupyter notebook\n",
    "\n",
    "Informasi: Jupyter Notebook adalah aplikasi web yang memungkinkan pengguna untuk membuat dokumen interaktif yang menggabungkan kode, teks, dan visualisasi. \n",
    "Dokumen ini dapat digunakan untuk berbagai keperluan, seperti analisis data, pembelajaran mesin, dan pengembangan perangkat lunak. \n",
    "Jupyter Notebook adalah alat yang mudah digunakan dan fleksibel, serta mendukung berbagai bahasa pemrograman. \n",
    "Dokumen Jupyter Notebook dapat dibagikan dan dikolaborasikan dengan mudah.\n",
    "\n",
    "Pertanyaan dari Informasi diatas:\n",
    "1. Apakah Jupyter Notebook hanya untuk data scientist?\n",
    "2. Apa saja bahasa pemrograman yang didukung oleh Jupyter Notebook?\n",
    "3. Bagaimana cara menggunakan Jupyter Notebook?\n",
    "4. Apa saja kelebihan Jupyter Notebook dibandingkan dengan IDE programming lainnya?\n"
   ]
  },
  {
   "cell_type": "markdown",
   "metadata": {},
   "source": [
    "__Berikut informasi yang ditandi dengan petik dua, buat 4 pertanyaan yang berhubungan dengan informasi tersebut. pertanyaan harus berdasarkan informasi yang disediakan.Pertanyaan harus diberi angka (1, 2, 3, 4)__\n",
    "\n",
    "`cobalah menggunakan beberapa model seperti: granite-13b-instruct-v2,  llama-3-70b-instruct, mpt-7b-instruct2`"
   ]
  },
  {
   "cell_type": "code",
   "execution_count": null,
   "metadata": {},
   "outputs": [],
   "source": [
    "Topic: Docker Contaner\n",
    "\n",
    "Informasi: \"Docker container adalah sebuah lingkungan terisolasi yang dapat digunakan untuk menjalankan aplikasi. \n",
    "Container dapat digunakan untuk berbagai aplikasi, seperti web server, database, atau aplikasi seluler.\n",
    "Untuk membuat Docker container, Anda perlu memiliki Docker image. Docker image adalah template yang digunakan untuk membuat container. \n",
    "Docker image dapat dibuat dari berbagai sumber, seperti Docker Hub, atau Anda dapat membuatnya sendiri.\"\n",
    "\n",
    "Pertanyaan dari Informasi diatas:???"
   ]
  },
  {
   "cell_type": "markdown",
   "metadata": {},
   "source": [
    "### 6. Text extraction\n",
    "***\n",
    "\n",
    "__`Goal: Ekstrak kata kerja yang ditemukan dalam setiap kalimat `__"
   ]
  },
  {
   "cell_type": "code",
   "execution_count": null,
   "metadata": {},
   "outputs": [],
   "source": [
    "Contoh 1:\n",
    "Paragraf: \"Petani kopi di Desa Kopi, Jawa Tengah, memetik biji kopi yang matang dengan hati-hati agar tidak merusak buahnya. \n",
    "Biji kopi tersebut kemudian disortir berdasarkan ukuran dan kualitasnya. \n",
    "Biji kopi yang sudah tersortir kemudian disangrai dengan suhu dan waktu yang tepat agar menghasilkan aroma dan rasa yang khas. \n",
    "Biji kopi yang sudah sangrai kemudian digiling untuk menghasilkan bubuk kopi. Bubuk kopi tersebut kemudian dikemas dan dijual ke berbagai daerah di Indonesia dan mancanegara.\n",
    "\n",
    "kata kerja yang ditemukan:\n",
    "- memetik\n",
    "- matang\n",
    "- merusak\n",
    "- sortir\n",
    "- sangrai\n",
    "- menghasilkan\n",
    "- digiling\n",
    "- kemas\n",
    "- jual"
   ]
  },
  {
   "cell_type": "code",
   "execution_count": null,
   "metadata": {},
   "outputs": [],
   "source": [
    "Contoh 2:\n",
    "Paragraf: \"Seorang pemuda membuka kotak kardus baru yang berisi smartphone terbaru dari merek ternama. \n",
    "Pemuda itu dengan hati-hati mengeluarkan smartphone dari kotak dan menyalakannya. \n",
    "Smartphone tersebut langsung menampilkan layar yang cerah dan tajam. Pemuda itu tersenyum puas karena telah mendapatkan smartphone yang diinginkannya.\"\n",
    "\n",
    "kata kerja yang ditemukan:\n",
    "- membuka\n",
    "- mengeluarkan\n",
    "- menyalakan\n",
    "- menampilkan\n",
    "- tersenyum\n"
   ]
  },
  {
   "cell_type": "markdown",
   "metadata": {},
   "source": [
    "__Ekstrak kata kerja dari sejumlah kalimat yang diberikan:__\n",
    "\n",
    "`cobalah menggunakan beberapa model seperti: llama-2-70b-chat,  granite-13b-instruct-v1`"
   ]
  },
  {
   "cell_type": "code",
   "execution_count": null,
   "metadata": {},
   "outputs": [],
   "source": [
    "Paragraf: Seorang wisatawan asing sedang berjalan-jalan di kawasan wisata Candi Borobudur. \n",
    "Wisatawan itu tampak kagum dengan keindahan candi yang berusia ratusan tahun tersebut. \n",
    "Wisatawan itu mengabadikan momen tersebut dengan mengambil banyak foto.\n",
    "kata kerja yang ditemukan: ???"
   ]
  },
  {
   "cell_type": "code",
   "execution_count": null,
   "metadata": {},
   "outputs": [],
   "source": [
    "Paragraf: Petani teh di kebun teh Rancabali, Jawa Barat, memetik daun teh yang matang dengan hati-hati agar tidak merusak tanamannya. \n",
    "Daun teh tersebut kemudian disortir berdasarkan ukuran dan kualitasnya. \n",
    "Daun teh yang sudah tersortir kemudian dikeringkan dengan sinar matahari agar menghasilkan teh yang berkualitas.\n",
    "kata kerja yang ditemukan: ???"
   ]
  },
  {
   "cell_type": "markdown",
   "metadata": {},
   "source": [
    "### 7. Compare\n",
    "***\n",
    "\n",
    "__`Goal: Identifikasi kesamaan yang ditemukan dalam sejumlah paragraf `__\n"
   ]
  },
  {
   "cell_type": "code",
   "execution_count": null,
   "metadata": {},
   "outputs": [],
   "source": [
    "Cerita 1: \"Di sebuah desa terpencil, hiduplah seorang pemuda bernama Andi. Andi adalah seorang pemuda yang cerdas dan ingin tahu. Ia selalu ingin belajar hal-hal baru.\n",
    "Suatu hari, Andi mendengar tentang internet. Ia pun sangat tertarik untuk mempelajarinya. Andi pergi ke perpustakaan dan mencari buku-buku tentang internet.\n",
    "Andi mempelajari internet dengan tekun. Ia belajar tentang cara mengakses internet, cara mencari informasi di internet, dan cara menggunakan internet untuk berkomunikasi.\n",
    "Andi sangat senang karena ia akhirnya bisa belajar hal-hal baru dari internet. Ia bertekad untuk menggunakan internet untuk mengembangkan diri dan membantu orang lain.\"\n",
    "\n",
    "Cerita 2: \"Andi, seorang pemuda yang tinggal di desa terpencil, ingin mengakses internet. Ia pun pergi ke kota untuk membeli komputer dan modem.\n",
    "Andi memasang komputer dan modem di rumahnya. Ia pun mulai mengakses internet.\n",
    "Andi sangat senang karena ia akhirnya bisa mengakses internet. Ia mulai mencari informasi di internet.\n",
    "Namun, tiba-tiba listrik mati. Andi pun tidak bisa mengakses internet.\n",
    "Andi sangat kecewa karena ia tidak bisa mengakses internet. Ia bertekad untuk mencari cara agar ia bisa mengakses internet kapan saja.\"\n",
    "\n",
    "kesamaan dari kedua cerita diatas:\n",
    "Keduanya menceritakan mengenai seorang pemuda yang ingin belajar tentang internet.\n",
    "Keduanya menceritakan mengenai tantangan yang dihadapi dalam mengakses internet.\n"
   ]
  },
  {
   "cell_type": "markdown",
   "metadata": {},
   "source": [
    "__Sebagaimana contoh diatas, Bandingkan 2 Cerita yang diberikan. Carilah dua kesamaan dari cerita tersebut:__\n",
    "\n",
    "`cobalah menggunakan beberapa model seperti: llama-2-70b-chat, flan-ul2-20b`"
   ]
  },
  {
   "cell_type": "code",
   "execution_count": null,
   "metadata": {},
   "outputs": [],
   "source": [
    "Cerita 1: \"Di sebuah bandara, seorang pilot muda bernama Andi sedang mempersiapkan penerbangannya. Ia akan menerbangkan sebuah pesawat tebang jenis ATR 72-600 ke sebuah kota di pulau lain.\n",
    "Andi adalah seorang pilot yang berpengalaman. Ia telah menerbangkan pesawat tebang selama beberapa tahun. Namun, ia tetap selalu waspada dan berhati-hati dalam mempersiapkan penerbangannya.\n",
    "Andi memeriksa semua instrumen pesawat dan memastikan bahwa semuanya dalam kondisi baik. Ia juga memeriksa cuaca di bandara tujuannya.\n",
    "Cuaca di bandara tujuannya cukup baik, dengan angin bertiup kencang dari arah barat daya. Andi memutuskan untuk melanjutkan penerbangannya.\n",
    "Andi menerbangkan pesawat dengan hati-hati. Ia harus menyesuaikan arah penerbangannya dengan arah angin yang bertiup kencang.\n",
    "Penerbangan berjalan lancar. Andi tiba di bandara tujuannya dengan selamat. Andi tersenyum lega. \n",
    "Ia berhasil menerbangkan pesawat dengan aman, meskipun cuaca tidak terlalu baik.\"\n",
    "\n",
    "Cerita 2: \"Pada suatu hari, Andi kembali menerbangkan pesawat tebang jenis ATR 72-600 ke sebuah kota di pulau lain. Namun, kali ini cuaca di bandara tujuannya cukup buruk, dengan angin bertiup kencang dan hujan deras.\n",
    "Andi memutuskan untuk membatalkan penerbangannya. Ia tidak ingin mengambil risiko menerbangkan pesawat dalam cuaca yang buruk.\n",
    "Andi kembali ke bandaranya dan menunggu cuaca membaik. Setelah beberapa jam, cuaca di bandara tujuannya mulai membaik. Andi pun memutuskan untuk melanjutkan penerbangannya.\n",
    "Penerbangan berjalan lancar. Andi tiba di bandara tujuannya dengan selamat. Andi bersyukur karena ia dapat menerbangkan pesawat dengan aman, meskipun cuaca tidak terlalu baik. \n",
    "Ia juga belajar bahwa cuaca dapat menjadi faktor yang sangat penting dalam penerbangan.\"\n",
    "\n",
    "kesamaan dari kedua cerita diatas: ??"
   ]
  },
  {
   "cell_type": "code",
   "execution_count": null,
   "metadata": {},
   "outputs": [],
   "source": [
    "Cerita 1: \"Di sebuah kota besar, hiduplah seorang wanita muda bernama Intan. Intan bekerja sebagai karyawan kantoran. Ia bekerja dari pagi hingga sore hari, dan sering pulang larut malam.\n",
    "Intan sangat lelah dengan pekerjaannya. Ia merasa seperti tidak memiliki waktu untuk dirinya sendiri. Ia hanya bisa tidur dan bekerja.\n",
    "Suatu hari, Intan pulang kerja lebih awal. Ia ingin menghabiskan waktunya untuk diri sendiri.\n",
    "Intan pergi ke taman kota. Ia duduk di bangku dan menikmati suasana taman. Ia merasa sangat damai dan tenang.\n",
    "Intan menyadari bahwa ia perlu meluangkan waktu untuk dirinya sendiri. Ia perlu menyeimbangkan antara pekerjaan dan kehidupan pribadinya.\"\n",
    "\n",
    "Cerita 2: \"Pada suatu hari, Andi, seorang karyawan kantoran, sedang berjalan pulang dari kantornya. Ia merasa sangat lelah. Ia telah bekerja keras selama berjam-jam.\n",
    "Andi tiba di rumahnya dan langsung masuk ke kamarnya. Ia berbaring di tempat tidur dan segera tertidur.\n",
    "Andi terbangun beberapa jam kemudian. Ia merasa sangat segar. Ia pun memutuskan untuk pergi keluar untuk menghirup udara segar.\n",
    "Andi berjalan-jalan di sekitar kompleks rumahnya. Ia melihat orang-orang sedang berkumpul dan mengobrol. Ia merasa iri dengan mereka.\n",
    "Andi menyadari bahwa ia perlu meluangkan waktu untuk dirinya sendiri. Ia perlu berinteraksi dengan orang-orang di sekitarnya.\"\n",
    "\n",
    "kesamaan dari kedua cerita diatas: ??"
   ]
  },
  {
   "cell_type": "markdown",
   "metadata": {},
   "source": [
    "### 8. Text search\n",
    "***\n",
    "\n",
    "__`Goal: Temukan halaman yang mengandung kata yang dicari `__\n",
    "\n",
    "Halaman sebagai sumber pencarian: "
   ]
  },
  {
   "cell_type": "code",
   "execution_count": null,
   "metadata": {},
   "outputs": [],
   "source": [
    "Halaman 1: Ayah dan Ibu sibuk di dapur, menyiapkan kue ulang tahun untuk Adi. Mereka mengocok telur, tepung, dan gula hingga mengembang. Kemudian, mereka menuangkan adonan kue ke dalam loyang dan memasukkannya ke dalam oven. Aroma kue yang harum memenuhi ruangan. Adi tidak sabar untuk mencicipi kue ulang tahunnya.\n",
    "Halaman 2: Ibu Adi menghias kue ulang tahun dengan krim cokelat dan taburan gula warna-warni. Ia juga menuliskan \"Selamat Ulang Tahun Adi!\" di atas kue. Adi sangat senang melihat kue ulang tahunnya. Ia mengucapkan terima kasih kepada Ibu dan Ayahnya.\n",
    "Halaman 3: Adi meniup lilin di atas kuenya dan berdoa. Kemudian, ia memotong kue dan membagikannya kepada Ayah, Ibu, dan teman-temannya. Semua orang menyanyikan lagu \"Selamat Ulang Tahun\" untuk Adi. Adi merasa sangat bahagia. Ia bersyukur atas semua hadiah dan ucapan ulang tahun yang diterimanya."
   ]
  },
  {
   "cell_type": "code",
   "execution_count": null,
   "metadata": {},
   "outputs": [],
   "source": [
    "Berikut adalah 3 halaman yang tersusun dari sejumlah kalimat. Setiap halaman memiliki nomor (1, 2, 3)\n",
    "Halaman 1: Ayah dan Ibu sibuk di dapur, menyiapkan kue ulang tahun untuk Adi. Mereka mengocok telur, tepung, dan gula hingga mengembang. Kemudian, mereka menuangkan adonan kue ke dalam loyang dan memasukkannya ke dalam oven. Aroma kue yang harum memenuhi ruangan. Adi tidak sabar untuk mencicipi kue ulang tahunnya.\n",
    "Halaman 2: Ibu Adi menghias kue ulang tahun dengan krim cokelat dan taburan gula warna-warni. Ia juga menuliskan \"Selamat Ulang Tahun Adi!\" di atas kue. Adi sangat senang melihat kue ulang tahunnya. Ia mengucapkan terima kasih kepada Ibu dan Ayahnya.\n",
    "Halaman 3: Adi meniup lilin di atas kuenya dan berdoa. Kemudian, ia memotong kue dan membagikannya kepada Ayah, Ibu, dan teman-temannya. Semua orang menyanyikan lagu \"Selamat Ulang Tahun\" untuk Adi. Adi merasa sangat bahagia. Ia bersyukur atas semua hadiah dan ucapan ulang tahun yang diterimanya.\n",
    "\n",
    "Berdasarkan halaman 1, 2, dan 3, carilah kata kunci dan tunjukkan nomor halaman sebagai hasil seperti ini\n",
    "\n",
    "Kata kunci: cokelat\n",
    "Hasil: Halaman 2\n",
    "\n",
    "Kata kunci: Aroma\n",
    "Hasil: "
   ]
  },
  {
   "cell_type": "markdown",
   "metadata": {},
   "source": [
    "Contoh kata kunci untuk pencarian\n",
    "\n",
    "`cobalah menggunakan beberapa model seperti: granite-13b-instruct-v2,  llama-3-70b-instruct`"
   ]
  },
  {
   "cell_type": "code",
   "execution_count": null,
   "metadata": {},
   "outputs": [],
   "source": [
    "Kata yang dicari:\n",
    "- mencicipi\n",
    "- cokelat\n",
    "- syukur \n",
    "- oven"
   ]
  },
  {
   "cell_type": "markdown",
   "metadata": {},
   "source": [
    "### 9. Classify\n",
    "***\n",
    "\n",
    "__`Goal: Deteksi keinginan atau tujuan dari pengguna chatbot`__"
   ]
  },
  {
   "cell_type": "code",
   "execution_count": null,
   "metadata": {},
   "outputs": [],
   "source": [
    "Klasifikasikan kalimat input yang diberikan menjadi salah satu dari tiga kategori berikut: \"hi\", \"pertanyaan\", \"masalah\".\n",
    "Berikut adalah input dan juga kategorinya.\n",
    "\n",
    "input: Hai\n",
    "kategori: \"hi\"\n",
    "\n",
    "input: Bagaimana cara mulai membuat Notebook R?\n",
    "kategori: \"pertanyaan\"\n",
    "\n",
    "input: Hai, saya mencoba meminta akses API key yang baru tetapi saya tidak tahu ID apa yang seharusnya saya gunakan.\n",
    "kategori: \"masalah\"\n",
    "\n",
    "input: Halo, selamat pagi\n",
    "kategori: \"hi\"\n",
    "\n",
    "input: Cara mengunggah dataset dari lokal ke RStudio\n",
    "kategori: ???"
   ]
  },
  {
   "cell_type": "markdown",
   "metadata": {},
   "source": [
    "__Klasifikasikan kalimat yang diberikan menjadi salah satu dari tiga kategori berikut: \"hi\", \"pertanyaan\", \"masalah\".__\n",
    "\n",
    "`cobalah menggunakan beberapa model seperti: granite-13b-instruct-v1,  llama-2-70b-chat`"
   ]
  },
  {
   "cell_type": "code",
   "execution_count": null,
   "metadata": {},
   "outputs": [],
   "source": [
    "# Kategori: \"Hi\"\n",
    "Halo\n",
    "Halo semuanya!\n",
    "Selamat malam\n",
    "Hai\n",
    "Halo, selamat pagi"
   ]
  },
  {
   "cell_type": "code",
   "execution_count": null,
   "metadata": {},
   "outputs": [],
   "source": [
    "# Kategori: \"Pertanyaan\"\n",
    "Hai, saya ingin tahu cara mengekspor data dari python notebook?\n",
    "Hai, bisakah saya mengembalikan notebook yang sudah terhapus?\n",
    "Hai, bagaimana Anda menambahkan folder file ke suatu proyek?\n",
    "Hai tim Bagaimana cara mengganti nama dari sebuah Notebook?\n",
    "Cara mengunggah dataset dari lokal ke RStudio\n",
    "Selamat pagi, bisakah Anda membantu saya mengunggah shapefile?\n",
    "Bagaimana cara mulai membuat Notebook R?"
   ]
  },
  {
   "cell_type": "code",
   "execution_count": null,
   "metadata": {},
   "outputs": [],
   "source": [
    "# Kategori: \"Masalah\"\n",
    "Hai tidak bisa login hari ini karena error, status akun tidak aktif. Mungkin karena membershipnya sudah expired.\n",
    "Saya tidak bisa membuat akun, tolong bantuan saya\n",
    "Hai, saya mendapat error message saat membuat Objek Storage. Minta tolong untuk sarannya. Terima kasih.\n",
    "Hai, saya mencoba meminta akses API key yang baru tetapi saya tidak tahu ID apa yang seharusnya saya gunakan.\n",
    "Ketika saya mencoba menambahkan model ke proyek mana pun, muncul error Unauthorized access."
   ]
  },
  {
   "cell_type": "markdown",
   "metadata": {},
   "source": [
    "### 10. Anomaly detection\n",
    "***\n",
    "\n",
    "__`Goal: Temukan entri yang aneh`__"
   ]
  },
  {
   "cell_type": "code",
   "execution_count": null,
   "metadata": {},
   "outputs": [],
   "source": [
    "# Contoh 1\n",
    "DATASET:\n",
    "1: \"Kucing\"\n",
    "2: \"Kucing\"\n",
    "3: \"Kucing\"\n",
    "4: \"Kucing\"\n",
    "5: \"Anjing\"\n",
    "6: \"Kucing\"\n",
    "Anomali: \"Anjing\""
   ]
  },
  {
   "cell_type": "code",
   "execution_count": null,
   "metadata": {},
   "outputs": [],
   "source": [
    "# Contoh 2\n",
    "DATASET:\n",
    "1: \"Rusa\"\n",
    "2: \"Unta\"\n",
    "3: \"Rusa\"\n",
    "4: \"Rusa\"\n",
    "5: \"Rusa\"\n",
    "6: \"Rusa\"\n",
    "Anomali: \"Unta\""
   ]
  },
  {
   "cell_type": "code",
   "execution_count": null,
   "metadata": {},
   "outputs": [],
   "source": [
    "# Contoh 3 \n",
    "DATASET:\n",
    "1: \"Kura-kura\"\n",
    "2: \"Kura-kura\"\n",
    "3: \"Kalkun\"\n",
    "4: \"Kura-kura\"\n",
    "5: \"Kura-kura\"\n",
    "6: \"Kura-kura\"\n",
    "Anomali: \"Kalkun\""
   ]
  },
  {
   "cell_type": "markdown",
   "metadata": {},
   "source": [
    "__Berikut terdapat DATASET dengan masing-masing 6 entri. Diantara entri tersebut ada kata yang unik dan berbeda yang disebut anomali.Temukan Anomali dari DATASET berikut ini.__\n",
    "\n",
    "`cobalah menggunakan beberapa model seperti: granite-13b-instruct-v1,  llama-2-70b-chat`\n"
   ]
  },
  {
   "cell_type": "code",
   "execution_count": null,
   "metadata": {},
   "outputs": [],
   "source": [
    "1: \"Beruang\"\n",
    "2: \"Beruang\"\n",
    "3: \"Kucing\"\n",
    "4: \"Beruang\"\n",
    "5: \"Beruang\"\n",
    "6: \"Beruang\"\n"
   ]
  },
  {
   "cell_type": "markdown",
   "metadata": {},
   "source": [
    "### 11. Math question\n",
    "***\n",
    "\n",
    "__`Goal: Ada berapa menit dalam satu hari?`__\n",
    "\n",
    "_hint: coba gunakan granite-13b-instruct-v1, mt0-xxl-13b_"
   ]
  },
  {
   "cell_type": "code",
   "execution_count": null,
   "metadata": {},
   "outputs": [],
   "source": [
    "Jumlah menit dalam 1 jam: 60\n",
    "Jumlah menit dalam 2 jam: 120\n",
    "Jumlah menit dalam 3 jam: 180\n",
    "Jumlah menit dalam 12 jam: 720\n",
    "Jumlah menit dalam 24 jam: ???"
   ]
  },
  {
   "cell_type": "markdown",
   "metadata": {},
   "source": [
    "### 12. Write with persona\n",
    "***\n",
    "\n",
    "__`Goal: Menulis ulang kalimat dalam gaya yang berbeda`__"
   ]
  },
  {
   "cell_type": "markdown",
   "metadata": {},
   "source": [
    "__Tulis kembali kalimat berikut ini menggunakan gaya penulisan yang berbeda__"
   ]
  },
  {
   "cell_type": "code",
   "execution_count": null,
   "metadata": {},
   "outputs": [],
   "source": [
    "Subjek: Promo Spesial Ulang Tahun ke-10\n",
    "Yth. [Nama Penerima],\n",
    "Salam hangat,\n",
    "Semoga Anda dan keluarga dalam keadaan sehat selalu.\n",
    "Pada kesempatan ini, kami ingin mengucapkan terima kasih atas kepercayaan Anda selama ini kepada [nama perusahaan].\n",
    "Dalam rangka merayakan ulang tahun ke-10, kami ingin memberikan promo spesial kepada Anda. Dapatkan diskon 20% untuk semua produk kami, berlaku hingga [tanggal].\n",
    "Berikut adalah beberapa produk yang dapat Anda beli dengan promo ini:\n",
    "[Nama produk 1]\n",
    "[Nama produk 2]\n",
    "[Nama produk 3]\n",
    "Untuk mendapatkan promo ini, Anda cukup memasukkan kode promo [kode promo] saat melakukan checkout.\n",
    "Promo ini berlaku untuk semua pembelian di [kanal penjualan].\n",
    "Kami berharap promo ini dapat menjadi apresiasi kami kepada Anda yang telah menjadi pelanggan setia [nama perusahaan].\n",
    "Terima kasih,\n",
    "[Nama Perusahaan]"
   ]
  },
  {
   "cell_type": "markdown",
   "metadata": {},
   "source": [
    "tulis ulang email diatas menggunakan gaya penulisan yang lebih santai, dan ramah.\n",
    "\n",
    "`cobalah menggunakan beberapa model seperti: llama-3-70b-instruct`"
   ]
  }
 ],
 "metadata": {
  "language_info": {
   "name": "python"
  }
 },
 "nbformat": 4,
 "nbformat_minor": 2
}
